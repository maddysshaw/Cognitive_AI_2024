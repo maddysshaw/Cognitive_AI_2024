{
  "nbformat": 4,
  "nbformat_minor": 0,
  "metadata": {
    "colab": {
      "provenance": [],
      "authorship_tag": "ABX9TyO3TwOWcgQJFG3CA2zoTrKX",
      "include_colab_link": true
    },
    "kernelspec": {
      "name": "python3",
      "display_name": "Python 3"
    },
    "language_info": {
      "name": "python"
    }
  },
  "cells": [
    {
      "cell_type": "markdown",
      "metadata": {
        "id": "view-in-github",
        "colab_type": "text"
      },
      "source": [
        "<a href=\"https://colab.research.google.com/github/maddysshaw/Cognitive_AI_2024/blob/main/HiddenExtraction.ipynb\" target=\"_parent\"><img src=\"https://colab.research.google.com/assets/colab-badge.svg\" alt=\"Open In Colab\"/></a>"
      ]
    },
    {
      "cell_type": "code",
      "source": [
        "#@title Load Trained LSTM Model\n",
        "\n",
        "import torch\n",
        "\n",
        "# Load the model\n",
        "model = torch.load(\"/content/drive/My Drive/MEng Technical Project/LSTM/model.pt\")\n",
        "\n",
        "# Put the model in evaluation mode\n",
        "model.eval()\n"
      ],
      "metadata": {
        "id": "x8bJmExPwYCI"
      },
      "execution_count": null,
      "outputs": []
    },
    {
      "cell_type": "code",
      "source": [
        "# @title Extract Unit Activations (Example)\n",
        "import torch\n",
        "\n",
        "# Assuming you have the data and model loaded\n",
        "data = ...  # Your input data\n",
        "hidden_state, cell_state = None, None\n",
        "\n",
        "# Redefine the forward pass to capture the cell state\n",
        "def capture_hidden_state(module, input, output):\n",
        "    global hidden_state, cell_state\n",
        "    hidden_state, cell_state = output\n",
        "\n",
        "# Register a hook to capture the cell state\n",
        "model.rnn.lstm_cells[0].register_forward_hook(capture_hidden_state)  # Modify for your architecture\n",
        "\n",
        "# Pass a batch through the model\n",
        "with torch.no_grad():\n",
        "    output = model(data)\n",
        "\n",
        "# Now `cell_state` contains the activations\n",
        "#print(cell_state)\n"
      ],
      "metadata": {
        "id": "UQFWds_vw0io"
      },
      "execution_count": null,
      "outputs": []
    }
  ]
}